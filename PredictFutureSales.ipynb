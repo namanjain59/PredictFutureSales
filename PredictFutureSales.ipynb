{
  "nbformat": 4,
  "nbformat_minor": 0,
  "metadata": {
    "colab": {
      "name": "PredictFutureSales",
      "version": "0.3.2",
      "provenance": [],
      "collapsed_sections": [],
      "include_colab_link": true
    },
    "kernelspec": {
      "name": "python3",
      "display_name": "Python 3"
    },
    "accelerator": "GPU"
  },
  "cells": [
    {
      "cell_type": "markdown",
      "metadata": {
        "id": "view-in-github",
        "colab_type": "text"
      },
      "source": [
        "<a href=\"https://colab.research.google.com/github/namanjain59/PredictFutureSales/blob/master/PredictFutureSales.ipynb\" target=\"_parent\"><img src=\"https://colab.research.google.com/assets/colab-badge.svg\" alt=\"Open In Colab\"/></a>"
      ]
    },
    {
      "cell_type": "markdown",
      "metadata": {
        "id": "I6zTRyHKZNbY",
        "colab_type": "text"
      },
      "source": [
        "#Link Google Drive (containing Data) with the current notebook"
      ]
    },
    {
      "cell_type": "code",
      "metadata": {
        "id": "bKRUakuR4L4b",
        "colab_type": "code",
        "outputId": "3a33a837-4215-424e-c3eb-c7191f4a5bf5",
        "colab": {
          "base_uri": "https://localhost:8080/",
          "height": 34
        }
      },
      "source": [
        "from google.colab import drive\n",
        "drive.mount('/content/drive')"
      ],
      "execution_count": 1,
      "outputs": [
        {
          "output_type": "stream",
          "text": [
            "Drive already mounted at /content/drive; to attempt to forcibly remount, call drive.mount(\"/content/drive\", force_remount=True).\n"
          ],
          "name": "stdout"
        }
      ]
    },
    {
      "cell_type": "markdown",
      "metadata": {
        "id": "u6hVD-oVZLSi",
        "colab_type": "text"
      },
      "source": [
        "#Import packages and set the path of all the input files"
      ]
    },
    {
      "cell_type": "code",
      "metadata": {
        "id": "vbCqytSf5i8d",
        "colab_type": "code",
        "colab": {}
      },
      "source": [
        "import numpy as np\n",
        "import pandas as pd \n",
        "from itertools import product\n",
        "from tqdm import tqdm_notebook\n",
        "import gc\n",
        "import matplotlib.pyplot as plt\n",
        "\n",
        "import sklearn\n",
        "import lightgbm as lgb\n",
        "from xgboost import XGBRegressor\n",
        "from sklearn.linear_model import LinearRegression\n",
        "from sklearn.metrics import r2_score\n",
        "import pickle\n",
        "\n",
        "\n",
        "pathData = \"drive/My Drive/Colab Notebooks/PredictFutureSales/\"\n",
        "datap = pathData+\"Datasets/\"\n",
        "pathItem_Categories = datap+\"item_categories.csv\"\n",
        "pathItems = datap+\"items.csv\"\n",
        "pathShops = datap+\"shops.csv\"\n",
        "pathSales_train = datap+\"sales_train.csv\"\n",
        "pathTest = datap+\"test.csv\"\n",
        "pathSample_submission = datap+\"sample_submission.csv\"\n",
        "\n",
        "\n",
        "# Utility funtion to downcast the datatypes\n",
        "def downcast_dtypes(df):\n",
        "    '''\n",
        "        Changes column types in the dataframe: \n",
        "                \n",
        "                `float64` type to `float32`\n",
        "                `int64`   type to `int32`\n",
        "    '''\n",
        "    \n",
        "    # Select columns to downcast\n",
        "    float_cols = [c for c in df if df[c].dtype == \"float64\"]\n",
        "    int_cols =   [c for c in df if df[c].dtype == \"int64\"]\n",
        "    \n",
        "    # Downcast\n",
        "    df[float_cols] = df[float_cols].astype(np.float32)\n",
        "    df[int_cols]   = df[int_cols].astype(np.int32)\n",
        "    \n",
        "    return df"
      ],
      "execution_count": 0,
      "outputs": []
    },
    {
      "cell_type": "markdown",
      "metadata": {
        "id": "Qf4r-JjwafCm",
        "colab_type": "text"
      },
      "source": [
        "#Load Data"
      ]
    },
    {
      "cell_type": "code",
      "metadata": {
        "id": "mKz7OboiaucD",
        "colab_type": "code",
        "colab": {}
      },
      "source": [
        "items = pd.read_csv(pathItems)\n",
        "item_cat = pd.read_csv(pathItem_Categories)\n",
        "shops = pd.read_csv(pathShops)\n",
        "sales = pd.read_csv(pathSales_train)\n",
        "test = pd.read_csv(pathTest)\n",
        "samplesub = pd.read_csv(pathSample_submission)"
      ],
      "execution_count": 0,
      "outputs": []
    },
    {
      "cell_type": "markdown",
      "metadata": {
        "id": "ASNR94pTbKUW",
        "colab_type": "text"
      },
      "source": [
        "#Exploratory Data Analysis"
      ]
    },
    {
      "cell_type": "code",
      "metadata": {
        "id": "BWlo1HPrAzI7",
        "colab_type": "code",
        "outputId": "9a16e03a-a8c9-4f25-d447-cb40b159cb7c",
        "colab": {
          "base_uri": "https://localhost:8080/",
          "height": 340
        }
      },
      "source": [
        "print(items.describe())\n",
        "print(items.nunique())\n",
        "print(items.head(5))\n"
      ],
      "execution_count": 4,
      "outputs": [
        {
          "output_type": "stream",
          "text": [
            "           item_id  item_category_id\n",
            "count  22170.00000      22170.000000\n",
            "mean   11084.50000         46.290753\n",
            "std     6400.07207         15.941486\n",
            "min        0.00000          0.000000\n",
            "25%     5542.25000         37.000000\n",
            "50%    11084.50000         40.000000\n",
            "75%    16626.75000         58.000000\n",
            "max    22169.00000         83.000000\n",
            "item_name           22170\n",
            "item_id             22170\n",
            "item_category_id       84\n",
            "dtype: int64\n",
            "                                           item_name  item_id  item_category_id\n",
            "0          ! ВО ВЛАСТИ НАВАЖДЕНИЯ (ПЛАСТ.)         D        0                40\n",
            "1  !ABBYY FineReader 12 Professional Edition Full...        1                76\n",
            "2      ***В ЛУЧАХ СЛАВЫ   (UNV)                    D        2                40\n",
            "3    ***ГОЛУБАЯ ВОЛНА  (Univ)                      D        3                40\n",
            "4        ***КОРОБКА (СТЕКЛО)                       D        4                40\n"
          ],
          "name": "stdout"
        }
      ]
    },
    {
      "cell_type": "code",
      "metadata": {
        "id": "JblOsp11Ay7d",
        "colab_type": "code",
        "outputId": "2891841a-2f8a-4d1a-f865-fa312bcf5052",
        "colab": {
          "base_uri": "https://localhost:8080/",
          "height": 323
        }
      },
      "source": [
        "print(item_cat.describe())\n",
        "print(item_cat.nunique())\n",
        "print(item_cat.head(5))"
      ],
      "execution_count": 5,
      "outputs": [
        {
          "output_type": "stream",
          "text": [
            "       item_category_id\n",
            "count         84.000000\n",
            "mean          41.500000\n",
            "std           24.392622\n",
            "min            0.000000\n",
            "25%           20.750000\n",
            "50%           41.500000\n",
            "75%           62.250000\n",
            "max           83.000000\n",
            "item_category_name    84\n",
            "item_category_id      84\n",
            "dtype: int64\n",
            "        item_category_name  item_category_id\n",
            "0  PC - Гарнитуры/Наушники                 0\n",
            "1         Аксессуары - PS2                 1\n",
            "2         Аксессуары - PS3                 2\n",
            "3         Аксессуары - PS4                 3\n",
            "4         Аксессуары - PSP                 4\n"
          ],
          "name": "stdout"
        }
      ]
    },
    {
      "cell_type": "code",
      "metadata": {
        "id": "iytFKuBFAyx1",
        "colab_type": "code",
        "outputId": "6093513d-a15c-4641-f10e-cb294df4d463",
        "colab": {
          "base_uri": "https://localhost:8080/",
          "height": 323
        }
      },
      "source": [
        "print(shops.describe())\n",
        "print(shops.nunique())\n",
        "print(shops.head(5))"
      ],
      "execution_count": 6,
      "outputs": [
        {
          "output_type": "stream",
          "text": [
            "         shop_id\n",
            "count  60.000000\n",
            "mean   29.500000\n",
            "std    17.464249\n",
            "min     0.000000\n",
            "25%    14.750000\n",
            "50%    29.500000\n",
            "75%    44.250000\n",
            "max    59.000000\n",
            "shop_name    60\n",
            "shop_id      60\n",
            "dtype: int64\n",
            "                        shop_name  shop_id\n",
            "0   !Якутск Орджоникидзе, 56 фран        0\n",
            "1   !Якутск ТЦ \"Центральный\" фран        1\n",
            "2                Адыгея ТЦ \"Мега\"        2\n",
            "3  Балашиха ТРК \"Октябрь-Киномир\"        3\n",
            "4        Волжский ТЦ \"Волга Молл\"        4\n"
          ],
          "name": "stdout"
        }
      ]
    },
    {
      "cell_type": "code",
      "metadata": {
        "id": "Z7ChwFmbAyby",
        "colab_type": "code",
        "outputId": "4b93c6fb-091b-4dd9-8d51-7eb3429abacc",
        "colab": {
          "base_uri": "https://localhost:8080/",
          "height": 391
        }
      },
      "source": [
        "print(sales.describe())\n",
        "print(sales.nunique())\n",
        "print(sales.head(5))"
      ],
      "execution_count": 7,
      "outputs": [
        {
          "output_type": "stream",
          "text": [
            "       date_block_num       shop_id       item_id    item_price  item_cnt_day\n",
            "count    2.935849e+06  2.935849e+06  2.935849e+06  2.935849e+06  2.935849e+06\n",
            "mean     1.456991e+01  3.300173e+01  1.019723e+04  8.908532e+02  1.242641e+00\n",
            "std      9.422988e+00  1.622697e+01  6.324297e+03  1.729800e+03  2.618834e+00\n",
            "min      0.000000e+00  0.000000e+00  0.000000e+00 -1.000000e+00 -2.200000e+01\n",
            "25%      7.000000e+00  2.200000e+01  4.476000e+03  2.490000e+02  1.000000e+00\n",
            "50%      1.400000e+01  3.100000e+01  9.343000e+03  3.990000e+02  1.000000e+00\n",
            "75%      2.300000e+01  4.700000e+01  1.568400e+04  9.990000e+02  1.000000e+00\n",
            "max      3.300000e+01  5.900000e+01  2.216900e+04  3.079800e+05  2.169000e+03\n",
            "date               1034\n",
            "date_block_num       34\n",
            "shop_id              60\n",
            "item_id           21807\n",
            "item_price        19993\n",
            "item_cnt_day        198\n",
            "dtype: int64\n",
            "         date  date_block_num  shop_id  item_id  item_price  item_cnt_day\n",
            "0  02.01.2013               0       59    22154      999.00           1.0\n",
            "1  03.01.2013               0       25     2552      899.00           1.0\n",
            "2  05.01.2013               0       25     2552      899.00          -1.0\n",
            "3  06.01.2013               0       25     2554     1709.05           1.0\n",
            "4  15.01.2013               0       25     2555     1099.00           1.0\n"
          ],
          "name": "stdout"
        }
      ]
    },
    {
      "cell_type": "code",
      "metadata": {
        "id": "wIoFbJDRW3mj",
        "colab_type": "code",
        "outputId": "e99aa8ca-a302-4f08-a77f-41fa29a2ff23",
        "colab": {
          "base_uri": "https://localhost:8080/",
          "height": 204
        }
      },
      "source": [
        "testmod = test\n",
        "test_block = sales['date_block_num'].max() + 1\n",
        "testmod['date_block_num']=sales.date_block_num.max()+1\n",
        "testmod.drop(columns='ID', inplace=True)\n",
        "testmod.head(5)"
      ],
      "execution_count": 8,
      "outputs": [
        {
          "output_type": "execute_result",
          "data": {
            "text/html": [
              "<div>\n",
              "<style scoped>\n",
              "    .dataframe tbody tr th:only-of-type {\n",
              "        vertical-align: middle;\n",
              "    }\n",
              "\n",
              "    .dataframe tbody tr th {\n",
              "        vertical-align: top;\n",
              "    }\n",
              "\n",
              "    .dataframe thead th {\n",
              "        text-align: right;\n",
              "    }\n",
              "</style>\n",
              "<table border=\"1\" class=\"dataframe\">\n",
              "  <thead>\n",
              "    <tr style=\"text-align: right;\">\n",
              "      <th></th>\n",
              "      <th>shop_id</th>\n",
              "      <th>item_id</th>\n",
              "      <th>date_block_num</th>\n",
              "    </tr>\n",
              "  </thead>\n",
              "  <tbody>\n",
              "    <tr>\n",
              "      <th>0</th>\n",
              "      <td>5</td>\n",
              "      <td>5037</td>\n",
              "      <td>34</td>\n",
              "    </tr>\n",
              "    <tr>\n",
              "      <th>1</th>\n",
              "      <td>5</td>\n",
              "      <td>5320</td>\n",
              "      <td>34</td>\n",
              "    </tr>\n",
              "    <tr>\n",
              "      <th>2</th>\n",
              "      <td>5</td>\n",
              "      <td>5233</td>\n",
              "      <td>34</td>\n",
              "    </tr>\n",
              "    <tr>\n",
              "      <th>3</th>\n",
              "      <td>5</td>\n",
              "      <td>5232</td>\n",
              "      <td>34</td>\n",
              "    </tr>\n",
              "    <tr>\n",
              "      <th>4</th>\n",
              "      <td>5</td>\n",
              "      <td>5268</td>\n",
              "      <td>34</td>\n",
              "    </tr>\n",
              "  </tbody>\n",
              "</table>\n",
              "</div>"
            ],
            "text/plain": [
              "   shop_id  item_id  date_block_num\n",
              "0        5     5037              34\n",
              "1        5     5320              34\n",
              "2        5     5233              34\n",
              "3        5     5232              34\n",
              "4        5     5268              34"
            ]
          },
          "metadata": {
            "tags": []
          },
          "execution_count": 8
        }
      ]
    },
    {
      "cell_type": "code",
      "metadata": {
        "id": "pxpr2FMsAyTk",
        "colab_type": "code",
        "outputId": "45d5fe25-f8c7-4ca6-e5f4-d49e58a3a159",
        "colab": {
          "base_uri": "https://localhost:8080/",
          "height": 204
        }
      },
      "source": [
        "samplesub.head(5)\n"
      ],
      "execution_count": 9,
      "outputs": [
        {
          "output_type": "execute_result",
          "data": {
            "text/html": [
              "<div>\n",
              "<style scoped>\n",
              "    .dataframe tbody tr th:only-of-type {\n",
              "        vertical-align: middle;\n",
              "    }\n",
              "\n",
              "    .dataframe tbody tr th {\n",
              "        vertical-align: top;\n",
              "    }\n",
              "\n",
              "    .dataframe thead th {\n",
              "        text-align: right;\n",
              "    }\n",
              "</style>\n",
              "<table border=\"1\" class=\"dataframe\">\n",
              "  <thead>\n",
              "    <tr style=\"text-align: right;\">\n",
              "      <th></th>\n",
              "      <th>ID</th>\n",
              "      <th>item_cnt_month</th>\n",
              "    </tr>\n",
              "  </thead>\n",
              "  <tbody>\n",
              "    <tr>\n",
              "      <th>0</th>\n",
              "      <td>0</td>\n",
              "      <td>0.5</td>\n",
              "    </tr>\n",
              "    <tr>\n",
              "      <th>1</th>\n",
              "      <td>1</td>\n",
              "      <td>0.5</td>\n",
              "    </tr>\n",
              "    <tr>\n",
              "      <th>2</th>\n",
              "      <td>2</td>\n",
              "      <td>0.5</td>\n",
              "    </tr>\n",
              "    <tr>\n",
              "      <th>3</th>\n",
              "      <td>3</td>\n",
              "      <td>0.5</td>\n",
              "    </tr>\n",
              "    <tr>\n",
              "      <th>4</th>\n",
              "      <td>4</td>\n",
              "      <td>0.5</td>\n",
              "    </tr>\n",
              "  </tbody>\n",
              "</table>\n",
              "</div>"
            ],
            "text/plain": [
              "   ID  item_cnt_month\n",
              "0   0             0.5\n",
              "1   1             0.5\n",
              "2   2             0.5\n",
              "3   3             0.5\n",
              "4   4             0.5"
            ]
          },
          "metadata": {
            "tags": []
          },
          "execution_count": 9
        }
      ]
    },
    {
      "cell_type": "markdown",
      "metadata": {
        "id": "IQHKBueAcU9v",
        "colab_type": "text"
      },
      "source": [
        "As can be seens above,\n",
        "\n",
        "* There are 22170 unique item_id\n",
        "*  There are 60 unique shop_id\n",
        "*  There are 60 unique item_category_id\n",
        "\n",
        "Also, the number of items for each month (block) seems to be well distributed"
      ]
    },
    {
      "cell_type": "code",
      "metadata": {
        "id": "U5ufsJVNeG-D",
        "colab_type": "code",
        "outputId": "f34ae14f-833a-46f1-d60c-a3856701378d",
        "colab": {
          "base_uri": "https://localhost:8080/",
          "height": 898
        }
      },
      "source": [
        "print(sales.date_block_num.plot())\n",
        "print(sales[['date_block_num', 'shop_id']].groupby('date_block_num').agg('count').rename(columns={'shop_id':'count'}))"
      ],
      "execution_count": 10,
      "outputs": [
        {
          "output_type": "stream",
          "text": [
            "AxesSubplot(0.125,0.125;0.775x0.755)\n",
            "                 count\n",
            "date_block_num        \n",
            "0               115690\n",
            "1               108613\n",
            "2               121347\n",
            "3                94109\n",
            "4                91759\n",
            "5               100403\n",
            "6               100548\n",
            "7               104772\n",
            "8                96137\n",
            "9                94202\n",
            "10               96736\n",
            "11              143246\n",
            "12               99349\n",
            "13               89830\n",
            "14               92733\n",
            "15               77906\n",
            "16               78529\n",
            "17               82408\n",
            "18               78760\n",
            "19               86614\n",
            "20               73157\n",
            "21               79361\n",
            "22               86428\n",
            "23              130786\n",
            "24               88522\n",
            "25               71808\n",
            "26               69977\n",
            "27               56274\n",
            "28               54548\n",
            "29               54617\n",
            "30               55549\n",
            "31               57029\n",
            "32               50588\n",
            "33               53514\n"
          ],
          "name": "stdout"
        },
        {
          "output_type": "display_data",
          "data": {
            "image/png": "[encoded data removed]",
            "text/plain": [
              "<Figure size 432x288 with 1 Axes>"
            ]
          },
          "metadata": {
            "tags": []
          }
        }
      ]
    },
    {
      "cell_type": "markdown",
      "metadata": {
        "id": "zktb4yLJXGpC",
        "colab_type": "text"
      },
      "source": [
        "##Removing Outliers\n",
        "Items with item_id 20949, 11373 and 6066 seems to be outliers (Having abnormally large values). So we remove them from the dataset"
      ]
    },
    {
      "cell_type": "code",
      "metadata": {
        "id": "kUl_4s2PI5ig",
        "colab_type": "code",
        "outputId": "a8055657-3418-47fa-d0b7-bf46497dab47",
        "colab": {
          "base_uri": "https://localhost:8080/",
          "height": 1000
        }
      },
      "source": [
        "print(sales.item_cnt_day.plot())\n",
        "print(sales[['item_cnt_day','item_id']].groupby('item_id').agg({'item_cnt_day':'sum'}).rename(columns={'item_cnt_day':'sum'}).sort_values(by='sum', ascending=False).head(20))\n",
        "print(items[items['item_id'] == 20949])\n",
        "print(items[items['item_id'] == 11373])\n",
        "print(sales[['item_cnt_day','item_id']].sort_values(by='item_cnt_day', ascending=False).head(20))"
      ],
      "execution_count": 11,
      "outputs": [
        {
          "output_type": "stream",
          "text": [
            "AxesSubplot(0.125,0.125;0.775x0.755)\n",
            "              sum\n",
            "item_id          \n",
            "20949    187642.0\n",
            "2808      17245.0\n",
            "3732      16642.0\n",
            "17717     15830.0\n",
            "5822      14515.0\n",
            "3734      11688.0\n",
            "6675      10289.0\n",
            "3731      10099.0\n",
            "1855      10032.0\n",
            "16787      9227.0\n",
            "7856       9012.0\n",
            "4181       8869.0\n",
            "3331       8262.0\n",
            "2445       7788.0\n",
            "2308       7588.0\n",
            "4870       7551.0\n",
            "6738       7351.0\n",
            "2814       7105.0\n",
            "1830       6975.0\n",
            "11373      6563.0\n",
            "                                               item_name  ...  item_category_id\n",
            "20949  Фирменный пакет майка 1С Интерес белый (34*42)...  ...                71\n",
            "\n",
            "[1 rows x 3 columns]\n",
            "                                  item_name  item_id  item_category_id\n",
            "11373  Доставка до пункта выдачи (Boxberry)    11373                 9\n",
            "         item_cnt_day  item_id\n",
            "2909818        2169.0    11373\n",
            "2326930        1000.0    20949\n",
            "2864235         669.0     9248\n",
            "2851091         637.0     9249\n",
            "2608040         624.0     3731\n",
            "2626181         539.0    11373\n",
            "2851073         533.0     9249\n",
            "2048518         512.0     9242\n",
            "2067669         508.0    19437\n",
            "2864260         504.0     9248\n",
            "1573253         502.0     8057\n",
            "1708207         501.0    20949\n",
            "2909401         500.0    20949\n",
            "2257299         500.0    20949\n",
            "2625847         480.0    10209\n",
            "2067677         412.0    19445\n",
            "1501160         405.0    20949\n",
            "1573252         401.0     8057\n",
            "2067667         401.0    19437\n",
            "2626133         343.0    11370\n"
          ],
          "name": "stdout"
        },
        {
          "output_type": "display_data",
          "data": {
            "image/png": "[encoded data removed]",
            "text/plain": [
              "<Figure size 432x288 with 1 Axes>"
            ]
          },
          "metadata": {
            "tags": []
          }
        }
      ]
    },
    {
      "cell_type": "code",
      "metadata": {
        "id": "kyNJPS9eI5av",
        "colab_type": "code",
        "outputId": "7fc0d6b6-d0ba-41bb-bc33-6556b809ad30",
        "colab": {
          "base_uri": "https://localhost:8080/",
          "height": 677
        }
      },
      "source": [
        "print(sales.item_price.plot())\n",
        "print(sales[['item_price','item_id']].sort_values(by='item_price', ascending=False).head(20))\n",
        "print(items[items['item_id']==6066])"
      ],
      "execution_count": 12,
      "outputs": [
        {
          "output_type": "stream",
          "text": [
            "AxesSubplot(0.125,0.125;0.775x0.755)\n",
            "         item_price  item_id\n",
            "1163158    307980.0     6066\n",
            "885138      59200.0    11365\n",
            "1488135     50999.0    13199\n",
            "2327159     49782.0     7241\n",
            "2931380     42990.0    13403\n",
            "2917760     42990.0    13403\n",
            "2910156     42990.0    13403\n",
            "2885692     42990.0    13403\n",
            "1006638     42000.0     7238\n",
            "2910155     41990.0    13403\n",
            "2893100     41990.0    13403\n",
            "2913267     41990.0    13403\n",
            "2927572     40991.0    13403\n",
            "2143903     40900.0    14173\n",
            "2885694     37991.0    13403\n",
            "2932637     37991.0    13403\n",
            "1592289     36990.0     5748\n",
            "1394150     36990.0     5748\n",
            "1656109     36990.0     5748\n",
            "884848      36990.0     2410\n",
            "                 item_name  item_id  item_category_id\n",
            "6066  Radmin 3  - 522 лиц.     6066                75\n"
          ],
          "name": "stdout"
        },
        {
          "output_type": "display_data",
          "data": {
            "image/png": "[encoded data removed]",
            "text/plain": [
              "<Figure size 432x288 with 1 Axes>"
            ]
          },
          "metadata": {
            "tags": []
          }
        }
      ]
    },
    {
      "cell_type": "code",
      "metadata": {
        "id": "NMscznQjI5Sp",
        "colab_type": "code",
        "outputId": "bf1d0c08-9d6f-49d8-db7a-67f0af7ea7df",
        "colab": {
          "base_uri": "https://localhost:8080/",
          "height": 221
        }
      },
      "source": [
        "print(test[test['item_id']==20949].count())\n",
        "print(test[test['item_id']==11373].count())\n",
        "print(test[test['item_id']==6066].count())"
      ],
      "execution_count": 13,
      "outputs": [
        {
          "output_type": "stream",
          "text": [
            "shop_id           42\n",
            "item_id           42\n",
            "date_block_num    42\n",
            "dtype: int64\n",
            "shop_id           42\n",
            "item_id           42\n",
            "date_block_num    42\n",
            "dtype: int64\n",
            "shop_id           0\n",
            "item_id           0\n",
            "date_block_num    0\n",
            "dtype: int64\n"
          ],
          "name": "stdout"
        }
      ]
    },
    {
      "cell_type": "markdown",
      "metadata": {
        "id": "Scqi6n2SYgqK",
        "colab_type": "text"
      },
      "source": [
        "The two item id's doesn't have any significant presence in the dataset. So we remove them."
      ]
    },
    {
      "cell_type": "code",
      "metadata": {
        "id": "ipzeP4DmI5Eu",
        "colab_type": "code",
        "colab": {}
      },
      "source": [
        "sales=sales[sales['item_price']<100000]\n",
        "sales=sales[sales['item_cnt_day']<1000]"
      ],
      "execution_count": 0,
      "outputs": []
    },
    {
      "cell_type": "markdown",
      "metadata": {
        "id": "s9bE04IxbCOG",
        "colab_type": "text"
      },
      "source": [
        "#Pre Processing and Feature Engineering"
      ]
    },
    {
      "cell_type": "markdown",
      "metadata": {
        "id": "nCS5cExfrqRC",
        "colab_type": "text"
      },
      "source": [
        "###Creating Grid with all shops, items, block information. And the appending the test block (blick number 34). So that the pre processing and feature engineering can take place on both."
      ]
    },
    {
      "cell_type": "code",
      "metadata": {
        "id": "OGgsNceZm__1",
        "colab_type": "code",
        "colab": {
          "base_uri": "https://localhost:8080/",
          "height": 231
        },
        "outputId": "a9ef5618-3e4e-4ab7-b065-39e19037f18e"
      },
      "source": [
        "index_cols = ['shop_id','item_id', 'date_block_num']\n",
        "grid=[]\n",
        "\n",
        "\n",
        "for block in sales['date_block_num'].unique():\n",
        "  curShop = sales.loc[sales['date_block_num']==block, 'shop_id'].unique()\n",
        "  curItem = sales.loc[sales['date_block_num']==block, 'item_id'].unique()\n",
        "  grid.append(np.array(list(product(*[curShop,curItem,[block]])),dtype='int32'))\n",
        "grid = pd.DataFrame(np.vstack(grid), columns=index_cols,dtype='int32')\n",
        "grid = pd.concat([grid, testmod], ignore_index=True)\n",
        "grid=downcast_dtypes(grid)"
      ],
      "execution_count": 15,
      "outputs": [
        {
          "output_type": "error",
          "ename": "KeyboardInterrupt",
          "evalue": "ignored",
          "traceback": [
            "\u001b[0;31m---------------------------------------------------------------------------\u001b[0m",
            "\u001b[0;31mKeyboardInterrupt\u001b[0m                         Traceback (most recent call last)",
            "\u001b[0;32m<ipython-input-15-bc46db264805>\u001b[0m in \u001b[0;36m<module>\u001b[0;34m()\u001b[0m\n\u001b[1;32m      6\u001b[0m   \u001b[0mcurShop\u001b[0m \u001b[0;34m=\u001b[0m \u001b[0msales\u001b[0m\u001b[0;34m.\u001b[0m\u001b[0mloc\u001b[0m\u001b[0;34m[\u001b[0m\u001b[0msales\u001b[0m\u001b[0;34m[\u001b[0m\u001b[0;34m'date_block_num'\u001b[0m\u001b[0;34m]\u001b[0m\u001b[0;34m==\u001b[0m\u001b[0mblock\u001b[0m\u001b[0;34m,\u001b[0m \u001b[0;34m'shop_id'\u001b[0m\u001b[0;34m]\u001b[0m\u001b[0;34m.\u001b[0m\u001b[0munique\u001b[0m\u001b[0;34m(\u001b[0m\u001b[0;34m)\u001b[0m\u001b[0;34m\u001b[0m\u001b[0;34m\u001b[0m\u001b[0m\n\u001b[1;32m      7\u001b[0m   \u001b[0mcurItem\u001b[0m \u001b[0;34m=\u001b[0m \u001b[0msales\u001b[0m\u001b[0;34m.\u001b[0m\u001b[0mloc\u001b[0m\u001b[0;34m[\u001b[0m\u001b[0msales\u001b[0m\u001b[0;34m[\u001b[0m\u001b[0;34m'date_block_num'\u001b[0m\u001b[0;34m]\u001b[0m\u001b[0;34m==\u001b[0m\u001b[0mblock\u001b[0m\u001b[0;34m,\u001b[0m \u001b[0;34m'item_id'\u001b[0m\u001b[0;34m]\u001b[0m\u001b[0;34m.\u001b[0m\u001b[0munique\u001b[0m\u001b[0;34m(\u001b[0m\u001b[0;34m)\u001b[0m\u001b[0;34m\u001b[0m\u001b[0;34m\u001b[0m\u001b[0m\n\u001b[0;32m----> 8\u001b[0;31m   \u001b[0mgrid\u001b[0m\u001b[0;34m.\u001b[0m\u001b[0mappend\u001b[0m\u001b[0;34m(\u001b[0m\u001b[0mnp\u001b[0m\u001b[0;34m.\u001b[0m\u001b[0marray\u001b[0m\u001b[0;34m(\u001b[0m\u001b[0mlist\u001b[0m\u001b[0;34m(\u001b[0m\u001b[0mproduct\u001b[0m\u001b[0;34m(\u001b[0m\u001b[0;34m*\u001b[0m\u001b[0;34m[\u001b[0m\u001b[0mcurShop\u001b[0m\u001b[0;34m,\u001b[0m\u001b[0mcurItem\u001b[0m\u001b[0;34m,\u001b[0m\u001b[0;34m[\u001b[0m\u001b[0mblock\u001b[0m\u001b[0;34m]\u001b[0m\u001b[0;34m]\u001b[0m\u001b[0;34m)\u001b[0m\u001b[0;34m)\u001b[0m\u001b[0;34m,\u001b[0m\u001b[0mdtype\u001b[0m\u001b[0;34m=\u001b[0m\u001b[0;34m'int32'\u001b[0m\u001b[0;34m)\u001b[0m\u001b[0;34m)\u001b[0m\u001b[0;34m\u001b[0m\u001b[0;34m\u001b[0m\u001b[0m\n\u001b[0m\u001b[1;32m      9\u001b[0m \u001b[0mgrid\u001b[0m \u001b[0;34m=\u001b[0m \u001b[0mpd\u001b[0m\u001b[0;34m.\u001b[0m\u001b[0mDataFrame\u001b[0m\u001b[0;34m(\u001b[0m\u001b[0mnp\u001b[0m\u001b[0;34m.\u001b[0m\u001b[0mvstack\u001b[0m\u001b[0;34m(\u001b[0m\u001b[0mgrid\u001b[0m\u001b[0;34m)\u001b[0m\u001b[0;34m,\u001b[0m \u001b[0mcolumns\u001b[0m\u001b[0;34m=\u001b[0m\u001b[0mindex_cols\u001b[0m\u001b[0;34m,\u001b[0m\u001b[0mdtype\u001b[0m\u001b[0;34m=\u001b[0m\u001b[0;34m'int32'\u001b[0m\u001b[0;34m)\u001b[0m\u001b[0;34m\u001b[0m\u001b[0;34m\u001b[0m\u001b[0m\n\u001b[1;32m     10\u001b[0m \u001b[0mgrid\u001b[0m \u001b[0;34m=\u001b[0m \u001b[0mpd\u001b[0m\u001b[0;34m.\u001b[0m\u001b[0mconcat\u001b[0m\u001b[0;34m(\u001b[0m\u001b[0;34m[\u001b[0m\u001b[0mgrid\u001b[0m\u001b[0;34m,\u001b[0m \u001b[0mtestmod\u001b[0m\u001b[0;34m]\u001b[0m\u001b[0;34m,\u001b[0m \u001b[0mignore_index\u001b[0m\u001b[0;34m=\u001b[0m\u001b[0;32mTrue\u001b[0m\u001b[0;34m)\u001b[0m\u001b[0;34m\u001b[0m\u001b[0;34m\u001b[0m\u001b[0m\n",
            "\u001b[0;31mKeyboardInterrupt\u001b[0m: "
          ]
        }
      ]
    },
    {
      "cell_type": "code",
      "metadata": {
        "id": "5SJ_fM5iYZAX",
        "colab_type": "code",
        "colab": {}
      },
      "source": [
        "grid['date_block_num'].unique()"
      ],
      "execution_count": 0,
      "outputs": []
    },
    {
      "cell_type": "markdown",
      "metadata": {
        "id": "DDsVVWP0vlQT",
        "colab_type": "text"
      },
      "source": [
        "###Creating features by grouping shops, items, months"
      ]
    },
    {
      "cell_type": "code",
      "metadata": {
        "id": "a-Pzajb_YZIT",
        "colab_type": "code",
        "colab": {}
      },
      "source": [
        "gb = sales.groupby(index_cols, as_index=False)['item_cnt_day'].sum().rename(columns={'item_cnt_day':'target'})\n",
        "all_data= pd.merge(grid, gb, how='left', on=index_cols).fillna(0)"
      ],
      "execution_count": 0,
      "outputs": []
    },
    {
      "cell_type": "code",
      "metadata": {
        "id": "-NxFpSDpYZOU",
        "colab_type": "code",
        "colab": {}
      },
      "source": [
        "gb = sales.groupby(['item_id', 'date_block_num'], as_index=False).agg({'item_cnt_day':'sum'}).rename(columns={'item_cnt_day':'target_item'})\n",
        "all_data= pd.merge(all_data, gb, how='left', on=['item_id', 'date_block_num']).fillna(0)"
      ],
      "execution_count": 0,
      "outputs": []
    },
    {
      "cell_type": "code",
      "metadata": {
        "id": "qSV4v7a9YZGc",
        "colab_type": "code",
        "colab": {}
      },
      "source": [
        "gb = sales.groupby(['shop_id', 'date_block_num'], as_index=False).agg({'item_cnt_day':'sum'}).rename(columns={'item_cnt_day':'target_shop'})\n",
        "all_data= pd.merge(all_data, gb, how='left', on=['shop_id', 'date_block_num']).fillna(0)"
      ],
      "execution_count": 0,
      "outputs": []
    },
    {
      "cell_type": "code",
      "metadata": {
        "id": "OoFxN3anYY-z",
        "colab_type": "code",
        "colab": {}
      },
      "source": [
        "all_data = downcast_dtypes(all_data)\n",
        "del grid, gb \n",
        "gc.collect();"
      ],
      "execution_count": 0,
      "outputs": []
    },
    {
      "cell_type": "code",
      "metadata": {
        "id": "hVIlrrM8nAKM",
        "colab_type": "code",
        "colab": {}
      },
      "source": [
        "all_data.head()"
      ],
      "execution_count": 0,
      "outputs": []
    },
    {
      "cell_type": "markdown",
      "metadata": {
        "id": "gsg7sI-3vW7q",
        "colab_type": "text"
      },
      "source": [
        "###Creating lag features with previous months data (Different lags are used)"
      ]
    },
    {
      "cell_type": "code",
      "metadata": {
        "id": "nnbStpoVvWIR",
        "colab_type": "code",
        "colab": {}
      },
      "source": [
        "lag_cols=list(all_data.columns.difference(index_cols))\n",
        "shift_range = [1,2,3,4,5,12]\n",
        "\n",
        "for shift in tqdm_notebook(shift_range):\n",
        "  train_shift = all_data[index_cols+lag_cols].copy()\n",
        "  train_shift['date_block_num']=train_shift['date_block_num']+shift\n",
        "  cc = lambda x: \"{}_lag_{}\".format(x, shift) if x in lag_cols else x\n",
        "  train_shift=train_shift.rename(columns=cc)\n",
        "  \n",
        "  all_data= pd.merge(all_data, train_shift, on=index_cols, how='left').fillna(0)\n",
        "  \n",
        "del train_shift\n",
        "all_data.head()"
      ],
      "execution_count": 0,
      "outputs": []
    },
    {
      "cell_type": "markdown",
      "metadata": {
        "id": "BNNpvZ2X-J0M",
        "colab_type": "text"
      },
      "source": [
        "###Add \"item category id\" as a feature and use only recent data (from the year 2013)"
      ]
    },
    {
      "cell_type": "code",
      "metadata": {
        "id": "6XM_NnMBQK-n",
        "colab_type": "code",
        "colab": {}
      },
      "source": [
        "all_data=all_data[all_data['date_block_num']>=12]\n",
        "\n",
        "fit_cols = [col for col in all_data.columns if col[-1] in [str(item) for item in shift_range]]\n",
        "to_drop_cols = ['target_item', 'target_shop', 'target', 'date_block_num']\n",
        "\n",
        "item_category_mapping = items[['item_id', 'item_category_id']].drop_duplicates()\n",
        "all_data = pd.merge(all_data, item_category_mapping, how='left', on='item_id')\n",
        "all_data = downcast_dtypes(all_data)\n",
        "\n",
        "gc.collect()"
      ],
      "execution_count": 0,
      "outputs": []
    },
    {
      "cell_type": "markdown",
      "metadata": {
        "id": "zYOVuoHThdUd",
        "colab_type": "text"
      },
      "source": [
        "###Split Train and Test Data"
      ]
    },
    {
      "cell_type": "code",
      "metadata": {
        "id": "43RDvJQaQLDq",
        "colab_type": "code",
        "colab": {}
      },
      "source": [
        "dates = all_data['date_block_num']\n",
        "\n",
        "dates_train  = dates[dates <  test_block]\n",
        "dates_test  = dates[dates == test_block]"
      ],
      "execution_count": 0,
      "outputs": []
    },
    {
      "cell_type": "code",
      "metadata": {
        "id": "4SY48eTnQLHD",
        "colab_type": "code",
        "colab": {}
      },
      "source": [
        "X_train = all_data.loc[dates <  test_block].drop(to_drop_cols, axis=1)\n",
        "X_test =  all_data.loc[dates == test_block].drop(to_drop_cols, axis=1)\n",
        "\n",
        "y_train = all_data.loc[dates <  test_block, 'target'].values\n",
        "y_test =  all_data.loc[dates == test_block, 'target'].values"
      ],
      "execution_count": 0,
      "outputs": []
    },
    {
      "cell_type": "code",
      "metadata": {
        "id": "DCpeOb2aQLJp",
        "colab_type": "code",
        "colab": {}
      },
      "source": [
        "X_train.head()"
      ],
      "execution_count": 0,
      "outputs": []
    },
    {
      "cell_type": "markdown",
      "metadata": {
        "id": "SRJLNEVjh0ze",
        "colab_type": "text"
      },
      "source": [
        "### Clip target range to [0,20]"
      ]
    },
    {
      "cell_type": "code",
      "metadata": {
        "id": "L6loINCIhpYu",
        "colab_type": "code",
        "colab": {}
      },
      "source": [
        "target_range = [0, 20]"
      ],
      "execution_count": 0,
      "outputs": []
    },
    {
      "cell_type": "markdown",
      "metadata": {
        "id": "oRcDHi-hjx-r",
        "colab_type": "text"
      },
      "source": [
        "# Modelling"
      ]
    },
    {
      "cell_type": "markdown",
      "metadata": {
        "id": "OfGpPR-Zj6HM",
        "colab_type": "text"
      },
      "source": [
        "###Linear Regression"
      ]
    },
    {
      "cell_type": "code",
      "metadata": {
        "id": "TLdRX0i3QLMd",
        "colab_type": "code",
        "colab": {}
      },
      "source": [
        "lr = LinearRegression()\n",
        "lr.fit(X_train.values, y_train)\n",
        "pred_lr = lr.predict(X_test.values).clip(*target_range)"
      ],
      "execution_count": 0,
      "outputs": []
    },
    {
      "cell_type": "code",
      "metadata": {
        "id": "m_c4v_tEQLRu",
        "colab_type": "code",
        "colab": {}
      },
      "source": [
        "submission = pd.DataFrame({'ID': samplesub.ID, 'item_cnt_month': pred_lr})\n",
        "with open(pathData+'Predictions/submission_linear_regression.csv','w+') as f:\n",
        "  submission.to_csv(f, index=False)"
      ],
      "execution_count": 0,
      "outputs": []
    },
    {
      "cell_type": "markdown",
      "metadata": {
        "id": "BjA0GVuDeLTe",
        "colab_type": "text"
      },
      "source": [
        "###LightGBM"
      ]
    },
    {
      "cell_type": "code",
      "metadata": {
        "id": "GutPgVPDQLVU",
        "colab_type": "code",
        "colab": {}
      },
      "source": [
        "lgb_params = {\n",
        "               'feature_fraction': 0.75,\n",
        "               'metric': 'rmse',\n",
        "               'nthread':1, \n",
        "               'min_data_in_leaf': 2**7, \n",
        "               'bagging_fraction': 0.75, \n",
        "               'learning_rate': 0.03, \n",
        "               'objective': 'mse', \n",
        "               'bagging_seed': 2**7, \n",
        "               'num_leaves': 2**7,\n",
        "               'bagging_freq':1,\n",
        "               'verbose':0 \n",
        "              }\n"
      ],
      "execution_count": 0,
      "outputs": []
    },
    {
      "cell_type": "code",
      "metadata": {
        "id": "iCg-z-HjQLZ8",
        "colab_type": "code",
        "colab": {}
      },
      "source": [
        "model = lgb.train(lgb_params, lgb.Dataset(X_train.values, label=y_train),100)\n",
        "pred_lgb = model.predict(X_test.values).clip(*target_range)\n",
        "\n",
        "submission_lgb = pd.DataFrame({'ID': samplesub.ID, 'item_cnt_month': pred_lgb})\n",
        "with open(pathData+'Predictions/submission_lightGBM.csv','w+') as f:\n",
        "  submission_lgb.to_csv(f, index=False)"
      ],
      "execution_count": 0,
      "outputs": []
    },
    {
      "cell_type": "code",
      "metadata": {
        "id": "AfwaO1tHeFlN",
        "colab_type": "code",
        "colab": {}
      },
      "source": [
        "pkl_filename = \"Models/lgb_classifier.pkl\"  \n",
        "with open(pathData+pkl_filename, 'wb') as file:\n",
        "    pickle.dump(model, file)"
      ],
      "execution_count": 0,
      "outputs": []
    },
    {
      "cell_type": "code",
      "metadata": {
        "id": "10hhO_w3P8_Z",
        "colab_type": "code",
        "colab": {}
      },
      "source": [
        "X_testlevel2 = np.c_[pred_lr, pred_lgb]"
      ],
      "execution_count": 0,
      "outputs": []
    },
    {
      "cell_type": "code",
      "metadata": {
        "id": "v8G4wbQIQLeF",
        "colab_type": "code",
        "colab": {}
      },
      "source": [
        "print(submission.head())\n",
        "print(submission_lgb.head())"
      ],
      "execution_count": 0,
      "outputs": []
    },
    {
      "cell_type": "code",
      "metadata": {
        "id": "4IJJvF4AQLX7",
        "colab_type": "code",
        "colab": {}
      },
      "source": [
        "for p in [np, pd, sklearn, lgb]:\n",
        "    print (p.__name__, p.__version__)"
      ],
      "execution_count": 0,
      "outputs": []
    },
    {
      "cell_type": "markdown",
      "metadata": {
        "id": "AJGH0FwX5AQe",
        "colab_type": "text"
      },
      "source": [
        "###KFold scheme in time series\n",
        "\n",
        "In time-series task we usually have a fixed period of time we are asked to predict. Like day, week, month or arbitrary period with duration of T.\n",
        "\n",
        "\n",
        "1.   Split the train data into chunks of duration T. Select first M chunks.\n",
        "2.   Fit N diverse models on those M chunks and predict for the chunk M+1. Then fit those models on first M+1 chunks and predict for chunk M+2 and so on, until you hit the end. After that use all train data to fit models and get predictions for test. Now we will have meta-features for the chunks starting from number M+1 as well as meta-features for the test.\n",
        "3. Now we can use meta-features from first K chunks [M+1,M+2,..,M+K] to fit level 2 models and validate them on chunk M+K+1. Essentially we are back to step 1. with the lesser amount of chunks and meta-features instead of features.\n",
        "\n",
        "\n",
        "Here, we will use duration T equal to month and M=15.\n",
        "\n",
        "That is, you need to get predictions (meta-features) from linear regression and LightGBM for months 27, 28, 29, 30, 31, 32, 33. Use the same parameters as in above models."
      ]
    },
    {
      "cell_type": "code",
      "metadata": {
        "id": "W_B2VGQjQLQA",
        "colab_type": "code",
        "colab": {}
      },
      "source": [
        "dates_train_ts = dates_train[dates_train.isin([27, 28, 29, 30, 31, 32, 33])]\n",
        "y_train_level2 = y_train[dates_train.isin([27, 28, 29, 30, 31, 32, 33])]"
      ],
      "execution_count": 0,
      "outputs": []
    },
    {
      "cell_type": "code",
      "metadata": {
        "id": "TqVg41_YQLBw",
        "colab_type": "code",
        "colab": {}
      },
      "source": [
        "X_train_level2 = np.zeros([y_train_level2.shape[0], 2])\n",
        "\n",
        "for cur_block in tqdm_notebook([27, 28, 29, 30, 31, 32, 33]):\n",
        "  X_trainC = all_data.loc[dates < cur_block].drop(to_drop_cols, axis=1)\n",
        "  y_trainC = all_data.loc[dates < cur_block, 'target'].values\n",
        "  \n",
        "  X_testC = all_data.loc[dates == cur_block].drop(to_drop_cols, axis=1)\n",
        "  y_testC = all_data.loc[dates == cur_block, 'target'].values\n",
        "  \n",
        "  lr.fit(X_trainC, y_trainC)\n",
        "  pred_lr2 = lr.predict(X_testC).clip(*target_range)\n",
        "  \n",
        "  model = lgb.train(lgb_params, lgb.Dataset(X_trainC, label=y_trainC), 100)\n",
        "  pred_lgb2 = model.predict(X_testC).clip(*target_range)\n",
        "  \n",
        "  X_train_level2[dates_train_ts==cur_block, 0] = pred_lr2\n",
        "  X_train_level2[dates_train_ts==cur_block, 1] = pred_lgb2\n",
        "  "
      ],
      "execution_count": 0,
      "outputs": []
    },
    {
      "cell_type": "code",
      "metadata": {
        "id": "k3XCkI95nAOL",
        "colab_type": "code",
        "colab": {}
      },
      "source": [
        "plt.scatter(X_train_level2[:, 0], X_train_level2[:, 1])"
      ],
      "execution_count": 0,
      "outputs": []
    },
    {
      "cell_type": "markdown",
      "metadata": {
        "id": "l0Idg-YO8zMS",
        "colab_type": "text"
      },
      "source": [
        "#Ensembling\n",
        "Now we'll ensemble our model using the meta features that are created."
      ]
    },
    {
      "cell_type": "markdown",
      "metadata": {
        "id": "d6jn0Qbr9Cnk",
        "colab_type": "text"
      },
      "source": [
        "##Stacking\n",
        "Here, we try to fit a linear regression model to the meta-features. Using the same parameters as in the model above."
      ]
    },
    {
      "cell_type": "code",
      "metadata": {
        "id": "y8tctSQ-nAIN",
        "colab_type": "code",
        "colab": {}
      },
      "source": [
        "lr.fit(X_train_level2, y_train_level2)\n",
        "pred_lr_stacking = lr.predict(X_testlevel2).clip(*target_range)"
      ],
      "execution_count": 0,
      "outputs": []
    },
    {
      "cell_type": "code",
      "metadata": {
        "id": "jErQFjBUnACy",
        "colab_type": "code",
        "colab": {}
      },
      "source": [
        "submission_stacking = pd.DataFrame({'ID': samplesub.ID, 'item_cnt_month': pred_lr_stacking})\n",
        "with open(pathData+'Predictions/submission_stacking.csv','w+') as f:\n",
        "  submission.to_csv(f, index=False)"
      ],
      "execution_count": 0,
      "outputs": []
    },
    {
      "cell_type": "markdown",
      "metadata": {
        "id": "78WOa9WcTFOF",
        "colab_type": "text"
      },
      "source": [
        "##Simple convex mix\n",
        "\n",
        "$$\n",
        "mix= \\alpha\\cdot\\text{linreg_prediction}+(1-\\alpha)\\cdot\\text{lgb_prediction}\n",
        "$$\n",
        "We need to find an optimal $\\alpha$. And it is very easy, as it is feasible to do grid search. Next, find the optimal $\\alpha$ out of alphas_to_try array. Remember, that we need to use train meta-features (not test) when searching for $\\alpha$."
      ]
    },
    {
      "cell_type": "code",
      "metadata": {
        "id": "4coSryZ-TWmU",
        "colab_type": "code",
        "colab": {}
      },
      "source": [
        "alphas_to_try = np.linspace(0, 1, 1001)\n",
        "\n",
        "r2_scores = np.array([r2_score(y_train_level2, np.dot(X_train_level2, [alpha, 1 - alpha])) for alpha in alphas_to_try])\n",
        "best_alpha = alphas_to_try[r2_scores.argmax()]\n",
        "r2_train_simple_mix = r2_scores.max()\n",
        "\n",
        "print('Best alpha: %f; Corresponding r2 score on train: %f' % (best_alpha, r2_train_simple_mix))"
      ],
      "execution_count": 0,
      "outputs": []
    },
    {
      "cell_type": "code",
      "metadata": {
        "id": "Dkfz0dpcUFyd",
        "colab_type": "code",
        "colab": {}
      },
      "source": [
        "pred_averaging = best_alpha * pred_lr + (1 - best_alpha) * pred_lgb"
      ],
      "execution_count": 0,
      "outputs": []
    },
    {
      "cell_type": "code",
      "metadata": {
        "id": "KNa885rjUXMh",
        "colab_type": "code",
        "colab": {}
      },
      "source": [
        "submission_averaging = pd.DataFrame({'ID': samplesub.ID, 'item_cnt_month': pred_averaging})\n",
        "with open(pathData+'Predictions/submission_averaging.csv','w+') as f:\n",
        "  submission.to_csv(f, index=False)"
      ],
      "execution_count": 0,
      "outputs": []
    },
    {
      "cell_type": "code",
      "metadata": {
        "id": "avJzY-6_ctIB",
        "colab_type": "code",
        "colab": {}
      },
      "source": [
        ""
      ],
      "execution_count": 0,
      "outputs": []
    }
  ]
}